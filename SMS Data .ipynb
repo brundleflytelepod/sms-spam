{
 "metadata": {
  "name": "",
  "signature": "sha256:888231a64d3057d9fc50f4a4ce0e483ab4f45120303e1c13206190974ce7f852"
 },
 "nbformat": 3,
 "nbformat_minor": 0,
 "worksheets": [
  {
   "cells": [
    {
     "cell_type": "code",
     "collapsed": false,
     "input": [
      "import matplotlib.pyplot as plt\n",
      "import numpy as np\n",
      "import pandas as pd\n",
      "import csv\n",
      "from textblob import TextBlob\n",
      "from sklearn.cross_validation import train_test_split\n",
      "from sklearn.ensemble import RandomForestClassifier, AdaBoostClassifier\n",
      "from sklearn.tree import DecisionTreeClassifier\n",
      "from sklearn import metrics\n",
      "import re\n"
     ],
     "language": "python",
     "metadata": {},
     "outputs": [],
     "prompt_number": 25
    },
    {
     "cell_type": "code",
     "collapsed": false,
     "input": [
      "text = [line.rstrip() for line in open('/Users/chameleonsrock/ironyard/sandbox/sms-spam/SMSSpamCollection')]"
     ],
     "language": "python",
     "metadata": {},
     "outputs": [],
     "prompt_number": 2
    },
    {
     "cell_type": "code",
     "collapsed": false,
     "input": [
      "messages = pd.read_csv('/Users/chameleonsrock/ironyard/sandbox/sms-spam/SMSSpamCollection', sep='\\t',\n",
      "                       quoting=csv.QUOTE_NONE, names=[\"label\", \"message\"])"
     ],
     "language": "python",
     "metadata": {},
     "outputs": [],
     "prompt_number": 3
    },
    {
     "cell_type": "code",
     "collapsed": false,
     "input": [
      "messages.groupby('label').describe()"
     ],
     "language": "python",
     "metadata": {},
     "outputs": [
      {
       "html": [
        "<div style=\"max-height:1000px;max-width:1500px;overflow:auto;\">\n",
        "<table border=\"1\" class=\"dataframe\">\n",
        "  <thead>\n",
        "    <tr style=\"text-align: right;\">\n",
        "      <th></th>\n",
        "      <th></th>\n",
        "      <th>message</th>\n",
        "    </tr>\n",
        "    <tr>\n",
        "      <th>label</th>\n",
        "      <th></th>\n",
        "      <th></th>\n",
        "    </tr>\n",
        "  </thead>\n",
        "  <tbody>\n",
        "    <tr>\n",
        "      <th rowspan=\"4\" valign=\"top\">ham</th>\n",
        "      <th>count</th>\n",
        "      <td>                                              4827</td>\n",
        "    </tr>\n",
        "    <tr>\n",
        "      <th>unique</th>\n",
        "      <td>                                              4518</td>\n",
        "    </tr>\n",
        "    <tr>\n",
        "      <th>top</th>\n",
        "      <td>                            Sorry, I'll call later</td>\n",
        "    </tr>\n",
        "    <tr>\n",
        "      <th>freq</th>\n",
        "      <td>                                                30</td>\n",
        "    </tr>\n",
        "    <tr>\n",
        "      <th rowspan=\"4\" valign=\"top\">spam</th>\n",
        "      <th>count</th>\n",
        "      <td>                                               747</td>\n",
        "    </tr>\n",
        "    <tr>\n",
        "      <th>unique</th>\n",
        "      <td>                                               653</td>\n",
        "    </tr>\n",
        "    <tr>\n",
        "      <th>top</th>\n",
        "      <td> Please call our customer service representativ...</td>\n",
        "    </tr>\n",
        "    <tr>\n",
        "      <th>freq</th>\n",
        "      <td>                                                 4</td>\n",
        "    </tr>\n",
        "  </tbody>\n",
        "</table>\n",
        "</div>"
       ],
       "metadata": {},
       "output_type": "pyout",
       "prompt_number": 4,
       "text": [
        "                                                        message\n",
        "label                                                          \n",
        "ham   count                                                4827\n",
        "      unique                                               4518\n",
        "      top                                Sorry, I'll call later\n",
        "      freq                                                   30\n",
        "spam  count                                                 747\n",
        "      unique                                                653\n",
        "      top     Please call our customer service representativ...\n",
        "      freq                                                    4"
       ]
      }
     ],
     "prompt_number": 4
    },
    {
     "cell_type": "code",
     "collapsed": false,
     "input": [
      "messages.head()"
     ],
     "language": "python",
     "metadata": {},
     "outputs": [
      {
       "html": [
        "<div style=\"max-height:1000px;max-width:1500px;overflow:auto;\">\n",
        "<table border=\"1\" class=\"dataframe\">\n",
        "  <thead>\n",
        "    <tr style=\"text-align: right;\">\n",
        "      <th></th>\n",
        "      <th>label</th>\n",
        "      <th>message</th>\n",
        "    </tr>\n",
        "  </thead>\n",
        "  <tbody>\n",
        "    <tr>\n",
        "      <th>0</th>\n",
        "      <td>  ham</td>\n",
        "      <td> Go until jurong point, crazy.. Available only ...</td>\n",
        "    </tr>\n",
        "    <tr>\n",
        "      <th>1</th>\n",
        "      <td>  ham</td>\n",
        "      <td>                     Ok lar... Joking wif u oni...</td>\n",
        "    </tr>\n",
        "    <tr>\n",
        "      <th>2</th>\n",
        "      <td> spam</td>\n",
        "      <td> Free entry in 2 a wkly comp to win FA Cup fina...</td>\n",
        "    </tr>\n",
        "    <tr>\n",
        "      <th>3</th>\n",
        "      <td>  ham</td>\n",
        "      <td> U dun say so early hor... U c already then say...</td>\n",
        "    </tr>\n",
        "    <tr>\n",
        "      <th>4</th>\n",
        "      <td>  ham</td>\n",
        "      <td> Nah I don't think he goes to usf, he lives aro...</td>\n",
        "    </tr>\n",
        "  </tbody>\n",
        "</table>\n",
        "</div>"
       ],
       "metadata": {},
       "output_type": "pyout",
       "prompt_number": 5,
       "text": [
        "  label                                            message\n",
        "0   ham  Go until jurong point, crazy.. Available only ...\n",
        "1   ham                      Ok lar... Joking wif u oni...\n",
        "2  spam  Free entry in 2 a wkly comp to win FA Cup fina...\n",
        "3   ham  U dun say so early hor... U c already then say...\n",
        "4   ham  Nah I don't think he goes to usf, he lives aro..."
       ]
      }
     ],
     "prompt_number": 5
    },
    {
     "cell_type": "code",
     "collapsed": false,
     "input": [
      "def to_blob(message):\n",
      "    return TextBlob(message).words"
     ],
     "language": "python",
     "metadata": {},
     "outputs": [],
     "prompt_number": 6
    },
    {
     "cell_type": "code",
     "collapsed": false,
     "input": [
      "messages.message = messages.message.apply(to_blob)\n",
      "messages.label = messages.label.apply(to_blob)"
     ],
     "language": "python",
     "metadata": {},
     "outputs": [],
     "prompt_number": 7
    },
    {
     "cell_type": "code",
     "collapsed": false,
     "input": [
      "def str_count_win(word_list):\n",
      "    win_list = [\"win\", \"winner\", \"won\"]\n",
      "    count = 0\n",
      "    for word in word_list:\n",
      "        word = word.lower()\n",
      "        if word in win_list:\n",
      "            count += 1\n",
      "    if count > 0:\n",
      "        return 1\n",
      "    else:\n",
      "        return 0\n",
      "\n",
      "\n",
      "def prize_count(word_list):\n",
      "    count = 0\n",
      "    for word in word_list:\n",
      "        word = word.lower()\n",
      "        if word == 'prize':\n",
      "            count += 1\n",
      "    if count > 0:\n",
      "        return 1\n",
      "    else:\n",
      "        return 0\n",
      "\n",
      "\n",
      "def claim_count(word_list):\n",
      "    count = 0\n",
      "    for word in word_list:\n",
      "        word = word.lower()\n",
      "        if word == 'claim':\n",
      "            count += 1\n",
      "    if count > 0:\n",
      "        return 1\n",
      "    else:\n",
      "        return 0\n",
      "\n",
      "\n",
      "def message_length(word_list):\n",
      "    return len(word_list)\n",
      "\n",
      "def txt_count(word_list):\n",
      "    count = 0\n",
      "    txt_list = ['txt', 'TXT']\n",
      "    for word in word_list:\n",
      "        word = word.lower()\n",
      "        if word in txt_list:\n",
      "            count += 1\n",
      "    if count > 0:\n",
      "        return 1\n",
      "    else:\n",
      "        return 0\n",
      "    \n",
      "\n",
      "def FREE(word_list):\n",
      "    count = 0\n",
      "    for word in word_list:\n",
      "        if word == 'FREE':\n",
      "            count += 1\n",
      "    if count > 0:\n",
      "        return 1\n",
      "    else:\n",
      "        return 0\n",
      "    \n",
      "\n",
      "def personal_tense(word_list):\n",
      "    count = 0\n",
      "    personal_words = ['I', 'My', 'my', 'me']\n",
      "    for word in word_list:\n",
      "        if word in personal_words:\n",
      "            count += 1\n",
      "    if count > 0:\n",
      "        return 1\n",
      "    else:\n",
      "        return 0\n",
      "    \n",
      "def label_convert(label_list):\n",
      "    for label in label_list:\n",
      "        if label == 'ham':\n",
      "            return 0\n",
      "        else:\n",
      "            return 1\n",
      "        \n",
      "\n",
      "def ringtone(word_list):\n",
      "    count = 0\n",
      "    for word in word_list:\n",
      "        word = word.lower()\n",
      "        if word == 'ringtone':\n",
      "            count += 1\n",
      "    if count > 0:\n",
      "        return 1\n",
      "    else:\n",
      "        return 0\n",
      "    \n",
      "\n",
      "def urgent(word_list):\n",
      "    count = 0\n",
      "    urgentlist = ['URGENT', 'URGENT!', 'URGENT!!', 'urgent']\n",
      "    for word in word_list:\n",
      "        word = word.lower()\n",
      "        if word in urgentlist:\n",
      "            count += 1\n",
      "    if count > 0:\n",
      "        return 1\n",
      "    else:\n",
      "        return 0\n",
      "    \n",
      "    \n",
      "def reply(word_list):\n",
      "    count = 0\n",
      "    replylist = ['reply', 'REPLY']\n",
      "    for word in word_list:\n",
      "        word = word.lower()\n",
      "        if word in replylist:\n",
      "            count += 1\n",
      "    if count > 0:\n",
      "        return 1\n",
      "    else:\n",
      "        return 0\n",
      "    \n",
      "def phonenumber(word_list):\n",
      "    count = 0\n",
      "    x = re.compile('\\d{12}')\n",
      "    for word in word_list:\n",
      "        m = x.match(word)\n",
      "        if m:\n",
      "            count += 1\n",
      "    if count > 0:\n",
      "        return 1\n",
      "    else:\n",
      "        return 0  \n",
      "    \n",
      "\n",
      "def smsnumber(word_list):\n",
      "    count = 0\n",
      "    x = re.compile('\\d{5}')\n",
      "    for word in word_list:\n",
      "        m = x.match(word)\n",
      "        if m:\n",
      "            count += 1\n",
      "    if count > 0:\n",
      "        return 1\n",
      "    else:\n",
      "        return 0           "
     ],
     "language": "python",
     "metadata": {},
     "outputs": [],
     "prompt_number": 8
    },
    {
     "cell_type": "code",
     "collapsed": false,
     "input": [
      "messages[\"win count\"] = messages.message.apply(str_count_win)\n",
      "messages[\"prize count\"] = messages.message.apply(prize_count)\n",
      "messages[\"claim count\"] = messages.message.apply(claim_count)\n",
      "messages[\"length\"] = messages.message.apply(message_length)\n",
      "messages[\"txt count\"] = messages.message.apply(txt_count)\n",
      "messages[\"FREE count\"] = messages.message.apply(FREE)\n",
      "messages[\"personal tense\"] = messages.message.apply(personal_tense)\n",
      "messages[\"label\"] = messages.label.apply(label_convert)\n",
      "messages['ringtone'] = messages.message.apply(ringtone)\n",
      "messages['urgent'] = messages.message.apply(urgent)\n",
      "messages['reply'] = messages.message.apply(reply)\n",
      "messages['phone_number'] = messages.message.apply(phonenumber)\n",
      "messages['sms_number'] = messages.message.apply(smsnumber)"
     ],
     "language": "python",
     "metadata": {},
     "outputs": [],
     "prompt_number": 9
    },
    {
     "cell_type": "code",
     "collapsed": false,
     "input": [
      "grouped = messages.groupby('label')"
     ],
     "language": "python",
     "metadata": {},
     "outputs": [],
     "prompt_number": 10
    },
    {
     "cell_type": "code",
     "collapsed": false,
     "input": [
      "grouped.phone_number.value_counts()"
     ],
     "language": "python",
     "metadata": {},
     "outputs": [
      {
       "metadata": {},
       "output_type": "pyout",
       "prompt_number": 23,
       "text": [
        "label   \n",
        "0      0    4827\n",
        "1      0     716\n",
        "       1      31\n",
        "dtype: int64"
       ]
      }
     ],
     "prompt_number": 23
    },
    {
     "cell_type": "code",
     "collapsed": false,
     "input": [
      "results = messages[[\"label\"]]\n",
      "data = messages.drop(messages[[0, 1]], axis=1)"
     ],
     "language": "python",
     "metadata": {},
     "outputs": [],
     "prompt_number": 12
    },
    {
     "cell_type": "code",
     "collapsed": false,
     "input": [
      "X_train, X_test, y_train, y_test = train_test_split(data, results,\n",
      "                                                    test_size=0.4, random_state=0)\n",
      "\n",
      "classifier = RandomForestClassifier()\n",
      "classifier.fit(X_train, y_train)\n",
      "predicted = classifier.predict(X_test)\n",
      "\n",
      "print(metrics.classification_report(y_test, predicted))\n",
      "print(metrics.confusion_matrix(y_test, predicted))\n",
      "print(metrics.f1_score(y_test, predicted))"
     ],
     "language": "python",
     "metadata": {},
     "outputs": [
      {
       "output_type": "stream",
       "stream": "stdout",
       "text": [
        "             precision    recall  f1-score   support\n",
        "\n",
        "          0       0.98      1.00      0.99      1928\n",
        "          1       0.98      0.86      0.92       302\n",
        "\n",
        "avg / total       0.98      0.98      0.98      2230\n",
        "\n",
        "[[1922    6]\n",
        " [  41  261]]\n",
        "0.917398945518\n"
       ]
      },
      {
       "output_type": "stream",
       "stream": "stderr",
       "text": [
        "-c:5: DataConversionWarning: A column-vector y was passed when a 1d array was expected. Please change the shape of y to (n_samples, ), for example using ravel().\n"
       ]
      }
     ],
     "prompt_number": 13
    },
    {
     "cell_type": "code",
     "collapsed": false,
     "input": [
      "X_train, X_test, y_train, y_test = train_test_split(data, results,\n",
      "                                                    test_size=0.4, random_state=0)\n",
      "\n",
      "classifier = AdaBoostClassifier()\n",
      "classifier.fit(X_train, y_train)\n",
      "predicted = classifier.predict(X_test)\n",
      "\n",
      "print(metrics.classification_report(y_test, predicted))\n",
      "print(metrics.confusion_matrix(y_test, predicted))\n",
      "print(metrics.f1_score(y_test, predicted))"
     ],
     "language": "python",
     "metadata": {},
     "outputs": [
      {
       "output_type": "stream",
       "stream": "stdout",
       "text": [
        "             precision    recall  f1-score   support\n",
        "\n",
        "          0       0.98      1.00      0.99      1928\n",
        "          1       0.97      0.86      0.91       302\n",
        "\n",
        "avg / total       0.98      0.98      0.98      2230\n",
        "\n",
        "[[1919    9]\n",
        " [  43  259]]\n",
        "0.908771929825\n"
       ]
      },
      {
       "output_type": "stream",
       "stream": "stderr",
       "text": [
        "/Users/chameleonsrock/.pyenv/versions/sandbox/lib/python3.4/site-packages/sklearn/ensemble/weight_boosting.py:114: DataConversionWarning: A column-vector y was passed when a 1d array was expected. Please change the shape of y to (n_samples, ), for example using ravel().\n",
        "  y = column_or_1d(y, warn=True)\n"
       ]
      }
     ],
     "prompt_number": 14
    },
    {
     "cell_type": "code",
     "collapsed": false,
     "input": [],
     "language": "python",
     "metadata": {},
     "outputs": [],
     "prompt_number": 28
    },
    {
     "cell_type": "code",
     "collapsed": false,
     "input": [],
     "language": "python",
     "metadata": {},
     "outputs": []
    }
   ],
   "metadata": {}
  }
 ]
}